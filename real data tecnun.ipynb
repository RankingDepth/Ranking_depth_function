{
  "cells": [
    {
      "cell_type": "code",
      "source": [
        "from sklearn.cluster import KMeans\n",
        "import sys\n",
        "# sys.path.insert(1, '../permus_util')\n",
        "# sys.path.insert(0, '/Users/ekhi/Desktop/gits/top-k-mallows')\n",
        "\n",
        "import mallows_kendall as mk\n",
        "import permutil as pu\n",
        "import seaborn as sns\n",
        "import pandas as pd\n",
        "import numpy as np\n",
        "import matplotlib.pyplot as plt"
      ],
      "outputs": [],
      "execution_count": 1,
      "metadata": {
        "execution": {
          "iopub.execute_input": "2021-05-14T07:23:51.284Z",
          "iopub.status.busy": "2021-05-14T07:23:51.274Z",
          "iopub.status.idle": "2021-05-14T07:23:52.682Z",
          "shell.execute_reply": "2021-05-14T07:23:52.804Z"
        },
        "jupyter": {
          "outputs_hidden": false,
          "source_hidden": false
        },
        "nteract": {
          "transient": {
            "deleting": false
          }
        }
      }
    },
    {
      "cell_type": "markdown",
      "source": [
        "# Data description\n",
        "\n",
        "This dataset has been generated a collection of students of 'Ecomomics and Enterprise' in Tecnun. Each student provides a ranking of 4 words in order of similarity to the word 'Amortización' (amortization). The words are: 'Depreciación' (depreciation), 'Gasto' (expense), 'Vida útil' (lifetime), 'Pago' (payment). There exists a real ground-true ranking, which is denoted along the experiment as $s0$, $s0=$['Depreciación', 'Gasto', 'Vida útil', 'Pago'] = [0,1,2,3].\n",
        "\n",
        "There are two different samples in this dataset:\n",
        "\n",
        "- sample 1: the experiment is carried out **before** the class, \n",
        "- sample 2: the experiment is carried out **after** the class.\n",
        "\n",
        "\n",
        "The questions that we try to solve are:\n",
        "\n",
        "- Do the students *learn* in the class? Do the answers after the class closer to the ground-true ranking?\n",
        "- In general, we have access to the sample but do not have access to the ground-true answer. Can we separete the expert students from the non-expert students with statistics from the sample (with out knowing $s0$?\n",
        "\n",
        "## References\n",
        "\n",
        "This work is a real-word experimental evaluation of WP ??? in the project SENDAI (Eklartek program). The theoretical background can be found in \\[2].\n",
        "\n",
        "\n",
        "- \\[1]  A Learning Theory of Ranking Aggregation\n",
        "Anna Korba, Stéphan Clemencon, Eric Sibony. Proceedings of the 20th International Conference on Artificial Intelligence and Statistics, PMLR 54:1001-1010, 2017.\n",
        "- \\[2] Concentric mixtures of Mallows models for top-k rankings: sampling and identifiability. Fabien Collas, Ekhine Irurozki. https://arxiv.org/abs/2010.14260 "
      ],
      "metadata": {
        "nteract": {
          "transient": {
            "deleting": false
          }
        }
      }
    },
    {
      "cell_type": "code",
      "source": [
        "def format_df(df):\n",
        "    a = ['Depreciación', 'Gasto', 'Vida útil', 'Pago']\n",
        "    df = df.replace('Depreciación',0)\n",
        "    df = df.replace('Gasto',1)\n",
        "    df = df.replace('Vida útil',2)\n",
        "    df = df.replace('Pago',3)\n",
        "    df.values\n",
        "    return df\n",
        "\n",
        "df = pd.read_csv('./tecnun_consensus.csv', header=None,sep=';')\n",
        "s0 = np.argsort(format_df(df).values[0])\n",
        "df = pd.read_csv('./tecnun_data1.csv', header=None,sep=';')\n",
        "d1 = np.argsort(format_df(df).values[:,:4])\n",
        "df = pd.read_csv('./tecnun_data2.csv', header=None,sep=';')\n",
        "d2 = np.argsort(format_df(df).values[:,:4])\n",
        "print(\"The ground-true ranking is\",s0)"
      ],
      "outputs": [
        {
          "output_type": "stream",
          "name": "stdout",
          "text": [
            "The ground-true ranking is [0 1 2 3]\n"
          ]
        }
      ],
      "execution_count": 2,
      "metadata": {
        "execution": {
          "iopub.execute_input": "2021-05-14T07:23:52.703Z",
          "iopub.status.busy": "2021-05-14T07:23:52.696Z",
          "iopub.status.idle": "2021-05-14T07:23:52.721Z",
          "shell.execute_reply": "2021-05-14T07:23:52.810Z"
        },
        "jupyter": {
          "outputs_hidden": false,
          "source_hidden": false
        },
        "nteract": {
          "transient": {
            "deleting": false
          }
        }
      }
    },
    {
      "cell_type": "markdown",
      "source": [
        "# Improvement after class\n",
        "\n",
        "The fist question is to analyze wheter the students' answers improved by taking the class. The most direct approach is to measure \n",
        "\n",
        "- the distance between the average ranking of the student **before** the class and the ground-true ranking ($s0$) and\n",
        "- the distance between the average ranking of the student **after** the class and the ground-true ranking ($s0$).\n",
        "\n",
        "The average ranking before the class was further than the average distance after the class. Therefore, we can conclude that the students did learn in the class. \n"
      ],
      "metadata": {
        "nteract": {
          "transient": {
            "deleting": false
          }
        }
      }
    },
    {
      "cell_type": "code",
      "source": [
        "avg_ranking_before = np.argsort(np.argsort(d1.sum(axis=0)))\n",
        "avg_ranking_after = np.argsort(np.argsort(d2.sum(axis=0)))\n",
        "print(\"The distance of the average ranking before the class is\", mk.distance(s0,avg_ranking_before))\n",
        "print(\"The distance of the average ranking before the class is\", mk.distance(s0,avg_ranking_after))\n",
        "print(\"Did the students learn?\", mk.distance(s0,avg_ranking_before) > mk.distance(s0,avg_ranking_after))\n"
      ],
      "outputs": [
        {
          "output_type": "stream",
          "name": "stdout",
          "text": [
            "The distance of the average ranking before the class is 2\n",
            "The distance of the average ranking before the class is 1\n",
            "Did the students learn? True\n"
          ]
        }
      ],
      "execution_count": 3,
      "metadata": {
        "execution": {
          "iopub.execute_input": "2021-05-14T07:23:52.743Z",
          "iopub.status.busy": "2021-05-14T07:23:52.736Z",
          "iopub.status.idle": "2021-05-14T07:23:52.759Z",
          "shell.execute_reply": "2021-05-14T07:23:52.815Z"
        },
        "jupyter": {
          "outputs_hidden": false,
          "source_hidden": false
        },
        "nteract": {
          "transient": {
            "deleting": false
          }
        }
      }
    },
    {
      "cell_type": "markdown",
      "source": [
        "# Distance to the sample (type-A depth)\n",
        "\n",
        "We know that if the ranking provided by student $a$ is closer to the center ($s0$) than the ranking provided by student $b$ then student $a$ is *more expert/better* than student $b$. However, in general, we will not have access to $s0$ (nor to the distance to the center $s0$). Is it still possible to measure how good a student's ranking is?\n",
        "\n",
        "In the follwing experiment, we consider two different measures for each ranking (i.e., student) in the sample:\n",
        "\n",
        "- Distance to the center: given that the center is known (i.e., the ground true ranking), we can measure the quality of each student as the (Kendall's-$\\tau$) distance between the ranking provided by the student and the ground true ranking.\n",
        "- Distance to the the sample: for each student, we measure the sum of the (Kendall's-$\\tau$) distances between his/her ranking and the rest of the rankings in the sample. \n",
        "\n",
        "Under certain conditions both measures are correlated, \\[1,2]. In this experiment, we plot each ranking as a dot in coordinates (x,y) where *x* is the 'Distance to the the sample' and *y* the 'Distance to the center'. Moreover, we fit a linear regression model between the two variables. We see that for this real data both measures are also correlated, which suggests that we can estimate the distance to the ground-true ranking with the distance to the sample. \n",
        "\n",
        "\n",
        "**Note**: the depth of a ranking is the maximum distance minus the sum of the distances to the sample. \n"
      ],
      "metadata": {
        "nteract": {
          "transient": {
            "deleting": false
          }
        }
      }
    },
    {
      "cell_type": "code",
      "source": [
        "palette1 = sns.color_palette(\"tab10\", 2)\n",
        "palette2 = sns.color_palette(\"husl\", 2)\n",
        "def gen_df(data,when):\n",
        "    res = []\n",
        "    P = pu.sample_to_marg_rel(data)\n",
        "    for perm_ind in range(len(data)):\n",
        "        perm = data[perm_ind]\n",
        "        res.append([mk.distance(s0, perm), pu.dist_to_sample(perm,P)  ])\n",
        "    df = pd.DataFrame(res,columns=['Distance to center','Distance to sample'])\n",
        "    df['When'] = when\n",
        "    return df\n",
        "df1 = gen_df(d1,'Before class')\n",
        "df2 = gen_df(d2,'After class')\n",
        "df = pd.concat([df1,df2])\n",
        "ax = sns.lmplot(x=\"Distance to sample\", y=\"Distance to center\", data=df,hue='When',\n",
        "           x_estimator=np.mean,palette=palette1, height=2.5, aspect=1.5)"
      ],
      "outputs": [
        {
          "output_type": "display_data",
          "data": {
            "text/plain": "<Figure size 367x180 with 1 Axes>",
            "image/png": "[encoded data removed]"
          },
          "metadata": {
            "needs_background": "light"
          }
        }
      ],
      "execution_count": 4,
      "metadata": {
        "execution": {
          "iopub.execute_input": "2021-05-14T07:23:52.778Z",
          "iopub.status.busy": "2021-05-14T07:23:52.770Z",
          "iopub.status.idle": "2021-05-14T07:23:55.046Z",
          "shell.execute_reply": "2021-05-14T07:23:55.093Z"
        },
        "jupyter": {
          "outputs_hidden": false,
          "source_hidden": false
        },
        "nteract": {
          "transient": {
            "deleting": false
          }
        }
      }
    },
    {
      "cell_type": "markdown",
      "source": [
        "## Visualizing groups\n",
        "When the set of students is heterogeneous (there are two different groups of good and bad students) then the 'distance to the sample' of a ranking provided by a good student will be very different from the 'distance to the sample' of a ranking provided by a bad student \\[2]. In the following plots, we see the histograms of the 'distance to the sample' of both groups. \n",
        "\n",
        "We see that before the class (blue data) there is one component, which suggests that the group is homogeneous and noisy (close to uniform). However, after the class, there are different groups that are identified by the different peaks in the orange data: some of the students are close to the center (are experts) and some provided uniform rankings (non-expert)."
      ],
      "metadata": {
        "nteract": {
          "transient": {
            "deleting": false
          }
        }
      }
    },
    {
      "cell_type": "code",
      "source": [
        "fig, ax = plt.subplots(1, 1,figsize=(5,3))\n",
        "sns.histplot(data=df, x=\"Distance to sample\", hue=\"When\", multiple=\"dodge\", \n",
        "             shrink=.8, alpha=0.3,palette=palette1, ax=ax)\n",
        "a = sns.histplot(data=df, x=\"Distance to sample\", hue=\"When\", element=\"poly\",\n",
        "             palette=palette1, ax=ax)"
      ],
      "outputs": [
        {
          "output_type": "display_data",
          "data": {
            "text/plain": "<Figure size 360x216 with 1 Axes>",
            "image/png": "[encoded data removed]"
          },
          "metadata": {
            "needs_background": "light"
          }
        }
      ],
      "execution_count": 5,
      "metadata": {
        "execution": {
          "iopub.execute_input": "2021-05-14T07:23:55.070Z",
          "iopub.status.busy": "2021-05-14T07:23:55.059Z",
          "iopub.status.idle": "2021-05-14T07:23:55.324Z",
          "shell.execute_reply": "2021-05-14T07:23:55.368Z"
        },
        "jupyter": {
          "outputs_hidden": false,
          "source_hidden": false
        },
        "nteract": {
          "transient": {
            "deleting": false
          }
        }
      }
    },
    {
      "cell_type": "markdown",
      "source": [
        "## Clustering: finding the good and bad student in the group after-class\n",
        "In the following, we only consider the group **after-class**. We see in the previous plot that this is a hetereogeneos group, where there are experts and non-experts. In this section, we separete both groups based on the 'Distance to sample'. \n",
        "\n",
        "When the students inside one group are *different enought*, a clustering algorithm can separate the expert from the non-expert students in the group (a bound for this difference is given in  \\[2]). In the next figure, we show that a clustering algorithms (an off-the-shelf KMeans) can separare the good (red) and the bad (green) students. The clustering of the group is visualized in the following figure. \n",
        "\n",
        "> **We conclude by noting that we have separated the experts from the non-expert student using sample statistics (i.e., using the 'Distance to sample' and without knowing the center $s0$). This result is consistent with the theoretical findings in \\[2].**\n",
        "\n"
      ],
      "metadata": {
        "nteract": {
          "transient": {
            "deleting": false
          }
        }
      }
    },
    {
      "cell_type": "code",
      "source": [
        "Xafter = df[df.When=='After class'].copy()\n",
        "Xafter['Distance to sample']\n",
        "Xafter['Distance to sample'].values.reshape(-1,1)\n",
        "kmeans = KMeans(n_clusters=2, random_state=0).fit(Xafter['Distance to sample'].values.reshape(-1,1))\n",
        "Xafter['Cluster'] = kmeans.labels_\n",
        "fig, ax = plt.subplots(1, 2,figsize=(10,3))\n",
        "sns.scatterplot(data=Xafter, x=\"Distance to center\", y=\"Distance to sample\",\n",
        "                hue='Cluster',style='Cluster',alpha=.5,palette=palette2,ax=ax[0])\n",
        "sns.histplot(data=Xafter, x=\"Distance to sample\", hue=\"Cluster\", multiple=\"dodge\", \n",
        "             shrink=.8, alpha=0.3,palette=palette2,ax=ax[1])\n",
        "sns.histplot(data=Xafter, x=\"Distance to sample\", hue=\"Cluster\",element=\"poly\",\n",
        "             palette=palette2,ax=ax[1])\n",
        "c1 = np.argsort(np.argsort(d1[Xafter['Cluster']].sum(axis=0)))\n",
        "c0 = np.argsort(np.argsort(d1[1-Xafter['Cluster']].sum(axis=0)))\n",
        "print(\"The distance of cluster 0 is\", mk.distance(s0,c0))\n",
        "print(\"The distance of cluster 1 is\", mk.distance(s0,c1))"
      ],
      "outputs": [
        {
          "output_type": "stream",
          "name": "stdout",
          "text": [
            "The distance of cluster 0 is 4\n",
            "The distance of cluster 1 is 5\n"
          ]
        },
        {
          "output_type": "display_data",
          "data": {
            "text/plain": "<Figure size 720x216 with 2 Axes>",
            "image/png": "[encoded data removed]"
          },
          "metadata": {
            "needs_background": "light"
          }
        }
      ],
      "execution_count": 6,
      "metadata": {
        "execution": {
          "iopub.execute_input": "2021-05-14T07:23:55.346Z",
          "iopub.status.busy": "2021-05-14T07:23:55.337Z",
          "iopub.status.idle": "2021-05-14T07:23:56.065Z",
          "shell.execute_reply": "2021-05-14T07:23:56.083Z"
        },
        "jupyter": {
          "outputs_hidden": false,
          "source_hidden": false
        },
        "nteract": {
          "transient": {
            "deleting": false
          }
        }
      }
    },
    {
      "cell_type": "code",
      "source": [],
      "outputs": [],
      "execution_count": null,
      "metadata": {}
    },
    {
      "cell_type": "code",
      "source": [],
      "outputs": [],
      "execution_count": null,
      "metadata": {}
    },
    {
      "cell_type": "code",
      "source": [],
      "outputs": [],
      "execution_count": null,
      "metadata": {}
    },
    {
      "cell_type": "code",
      "source": [],
      "outputs": [],
      "execution_count": null,
      "metadata": {}
    },
    {
      "cell_type": "code",
      "source": [],
      "outputs": [],
      "execution_count": null,
      "metadata": {}
    },
    {
      "cell_type": "code",
      "source": [],
      "outputs": [],
      "execution_count": null,
      "metadata": {}
    },
    {
      "cell_type": "code",
      "source": [],
      "outputs": [],
      "execution_count": null,
      "metadata": {}
    },
    {
      "cell_type": "code",
      "source": [],
      "outputs": [],
      "execution_count": null,
      "metadata": {}
    },
    {
      "cell_type": "code",
      "source": [],
      "outputs": [],
      "execution_count": null,
      "metadata": {
        "execution": {
          "iopub.execute_input": "2021-02-23T22:39:24.549Z",
          "iopub.status.busy": "2021-02-23T22:39:24.543Z",
          "iopub.status.idle": "2021-02-23T22:39:24.562Z",
          "shell.execute_reply": "2021-02-23T22:39:24.567Z"
        },
        "jupyter": {
          "outputs_hidden": false,
          "source_hidden": false
        },
        "nteract": {
          "transient": {
            "deleting": false
          }
        }
      }
    }
  ],
  "metadata": {
    "kernel_info": {
      "name": "python3"
    },
    "kernelspec": {
      "display_name": "Python 3",
      "language": "python",
      "name": "python3"
    },
    "language_info": {
      "name": "python",
      "version": "3.7.5",
      "mimetype": "text/x-python",
      "codemirror_mode": {
        "name": "ipython",
        "version": 3
      },
      "pygments_lexer": "ipython3",
      "nbconvert_exporter": "python",
      "file_extension": ".py"
    },
    "nteract": {
      "version": "0.28.0"
    }
  },
  "nbformat": 4,
  "nbformat_minor": 1
}