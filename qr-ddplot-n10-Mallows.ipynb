{
 "cells": [
  {
   "cell_type": "markdown",
   "metadata": {},
   "source": [
    "# Computation of the DD-plot"
   ]
  },
  {
   "cell_type": "markdown",
   "metadata": {},
   "source": [
    "Import packages"
   ]
  },
  {
   "cell_type": "code",
   "execution_count": 1,
   "metadata": {},
   "outputs": [],
   "source": [
    "import mallows_kendall as mk\n",
    "import numpy as np\n",
    "import itertools as it\n",
    "import scipy as sp\n",
    "import random\n",
    "import matplotlib.pyplot as plt\n",
    "from matplotlib.backends.backend_pdf import PdfPages\n",
    "import math"
   ]
  },
  {
   "cell_type": "markdown",
   "metadata": {},
   "source": [
    "### The C++ load and verification part"
   ]
  },
  {
   "cell_type": "markdown",
   "metadata": {},
   "source": [
    "Compile C++ codes if necessary"
   ]
  },
  {
   "cell_type": "code",
   "execution_count": 2,
   "metadata": {},
   "outputs": [],
   "source": [
    "# Compilation\n",
    "#import os\n",
    "#os.system('clang++ -mmacosx-version-min=10.13 -std=gnu++11 -fPIC  -Wall -g -O2  -c rankDepth.cpp -o rankDepth.o')\n",
    "#os.system('clang++ -mmacosx-version-min=10.13 -std=gnu++11 -dynamiclib -Wl,-headerpad_max_install_names -undefined dynamic_lookup -single_module -multiply_defined suppress -o rankDepth.so rankDepth.o')\n",
    "# Restart the kernel after this line"
   ]
  },
  {
   "cell_type": "markdown",
   "metadata": {},
   "source": [
    "Import (and test) the dynamic library"
   ]
  },
  {
   "cell_type": "code",
   "execution_count": 3,
   "metadata": {},
   "outputs": [
    {
     "data": {
      "text/plain": [
       "43"
      ]
     },
     "execution_count": 3,
     "metadata": {},
     "output_type": "execute_result"
    }
   ],
   "source": [
    "# Import and Test 1\n",
    "from ctypes import *\n",
    "cdll.LoadLibrary('rankDepth.so')\n",
    "libc = CDLL('rankDepth.so')\n",
    "libc.testFunc()"
   ]
  },
  {
   "cell_type": "code",
   "execution_count": 4,
   "metadata": {},
   "outputs": [
    {
     "name": "stdout",
     "output_type": "stream",
     "text": [
      "0\n",
      "[  1.1   0.    0.    0.    0.    0.    0.    0.    0.  142. ]\n"
     ]
    }
   ],
   "source": [
    "# Test 2\n",
    "val = np.array([5.1])\n",
    "obj = np.array([0.1, 1.1, 2.1, 3.1, 4.1, 5.1, 6.1, 7.1, 8.1, 9.1])\n",
    "n = 10\n",
    "outp = np.array([1.1, 0, 0, 0, 0, 0, 0, 0, 0, 0])\n",
    "res2 = libc.testFuncCmp(c_void_p(val.ctypes.data),\n",
    "                       c_void_p(obj.ctypes.data),\n",
    "                       c_int(n),\n",
    "                       c_void_p(outp.ctypes.data))\n",
    "print(res2)\n",
    "print(outp)"
   ]
  },
  {
   "cell_type": "markdown",
   "metadata": {},
   "source": [
    "Depth-calculating Python function"
   ]
  },
  {
   "cell_type": "code",
   "execution_count": 5,
   "metadata": {},
   "outputs": [],
   "source": [
    "def qrdepth(objects, data):\n",
    "    '''\n",
    "    The function to calculate the qr-depths\n",
    "    '''\n",
    "    depths = np.zeros(objects.shape[0])\n",
    "    for i in range(objects.shape[0]):\n",
    "        for j in range(data.shape[0]):\n",
    "            depths[i] += (mk.max_dist(objects.shape[1]) - mk.kendall_tau(objects[i,:], data[j,:])) / mk.max_dist(objects.shape[1])\n",
    "        depths[i] /= data.shape[0]\n",
    "    return depths"
   ]
  },
  {
   "cell_type": "markdown",
   "metadata": {},
   "source": [
    "### DD-plot(s) for the Mallows-Kendall"
   ]
  },
  {
   "cell_type": "code",
   "execution_count": 6,
   "metadata": {},
   "outputs": [
    {
     "name": "stdout",
     "output_type": "stream",
     "text": [
      "3628800\n",
      "45\n"
     ]
    }
   ],
   "source": [
    "# Define data settings and prepare structures\n",
    "n = 10\n",
    "print(math.factorial(n))\n",
    "print(mk.max_dist(n))\n",
    "modelShorts = [\"MallowsK-locshift\", \"MallowsK-scadif\", \"MallowsK-locscale\", \"MallowsK-locscale-size\"]\n",
    "modelNames = [\"Mallows-Kendal location-shift\", \"Mallows-Kendal scale difference\", \"Mallows-Kendal-Kendal location-scale\", \"Mallows-Kendal location-scale size-difference\"]"
   ]
  },
  {
   "cell_type": "markdown",
   "metadata": {},
   "source": [
    "Generate data from Model 1: Location-shift model"
   ]
  },
  {
   "cell_type": "code",
   "execution_count": 31,
   "metadata": {},
   "outputs": [
    {
     "name": "stdout",
     "output_type": "stream",
     "text": [
      "15\n"
     ]
    }
   ],
   "source": [
    "# Generate data\n",
    "np.random.seed(1)\n",
    "# Model 1: Mallows-Kendal location-shift\n",
    "iModel = 0\n",
    "m1 = 250\n",
    "m2 = 250\n",
    "theta1 = 1\n",
    "theta2 = 1\n",
    "cons1 = np.random.permutation(n)\n",
    "empDist1 = mk.sampling_mm(m = m1, n = n, theta = theta1, phi = None, s0 = cons1)\n",
    "cons2 = np.array(cons1)\n",
    "tmpWhere1 = np.where(cons1 == 0)\n",
    "tmpWhere2 = np.where(cons1 == 8)\n",
    "cons2[tmpWhere1] = 8\n",
    "cons2[tmpWhere2] = 0\n",
    "print(mk.kendall_tau(cons2, cons1))\n",
    "empDist2 = mk.sampling_mm(m = m2, n = n, theta = theta2, phi = None, s0 = cons2)"
   ]
  },
  {
   "cell_type": "markdown",
   "metadata": {},
   "source": [
    "Generate data from Model 2: Scale difference model"
   ]
  },
  {
   "cell_type": "code",
   "execution_count": 34,
   "metadata": {},
   "outputs": [],
   "source": [
    "# Generate data\n",
    "np.random.seed(1)\n",
    "# Model 2: Mallows-Kendal scale difference\n",
    "iModel = 1\n",
    "m1 = 250\n",
    "m2 = 250\n",
    "theta1 = 0.5\n",
    "theta2 = 2\n",
    "cons1 = np.random.permutation(n)\n",
    "empDist1 = mk.sampling_mm(m = m1, n = n, theta = theta1, phi = None, s0 = cons1)\n",
    "empDist2 = mk.sampling_mm(m = m2, n = n, theta = theta2, phi = None, s0 = cons1)"
   ]
  },
  {
   "cell_type": "markdown",
   "metadata": {},
   "source": [
    "Generate data from Model 3: Location-scale model"
   ]
  },
  {
   "cell_type": "code",
   "execution_count": 37,
   "metadata": {},
   "outputs": [
    {
     "name": "stdout",
     "output_type": "stream",
     "text": [
      "15\n"
     ]
    }
   ],
   "source": [
    "# Generate data\n",
    "np.random.seed(1)\n",
    "# Model 3: Mallows-Kendal location-scale\n",
    "iModel = 2\n",
    "m1 = 250\n",
    "m2 = 250\n",
    "theta1 = 0.5\n",
    "theta2 = 2\n",
    "cons1 = np.random.permutation(n)\n",
    "empDist1 = mk.sampling_mm(m = m1, n = n, theta = theta1, phi = None, s0 = cons1)\n",
    "cons2 = np.array(cons1)\n",
    "tmpWhere1 = np.where(cons1 == 0)\n",
    "tmpWhere2 = np.where(cons1 == 8)\n",
    "cons2[tmpWhere1] = 8\n",
    "cons2[tmpWhere2] = 0\n",
    "print(mk.kendall_tau(cons2, cons1))\n",
    "empDist2 = mk.sampling_mm(m = m2, n = n, theta = theta2, phi = None, s0 = cons2)"
   ]
  },
  {
   "cell_type": "markdown",
   "metadata": {},
   "source": [
    "Generate data from Model 4: Location-scale size-difference model"
   ]
  },
  {
   "cell_type": "code",
   "execution_count": 40,
   "metadata": {},
   "outputs": [
    {
     "name": "stdout",
     "output_type": "stream",
     "text": [
      "15\n"
     ]
    }
   ],
   "source": [
    "# Generate data\n",
    "np.random.seed(1)\n",
    "# Model 4: Mallows-Kendal location-scale size-difference\n",
    "iModel = 3\n",
    "m1 = 400\n",
    "m2 = 100\n",
    "theta1 = 0.5\n",
    "theta2 = 2\n",
    "cons1 = np.random.permutation(n)\n",
    "empDist1 = mk.sampling_mm(m = m1, n = n, theta = theta1, phi = None, s0 = cons1)\n",
    "cons2 = np.array(cons1)\n",
    "tmpWhere1 = np.where(cons1 == 0)\n",
    "tmpWhere2 = np.where(cons1 == 8)\n",
    "cons2[tmpWhere1] = 8\n",
    "cons2[tmpWhere2] = 0\n",
    "print(mk.kendall_tau(cons2, cons1))\n",
    "empDist2 = mk.sampling_mm(m = m2, n = n, theta = theta2, phi = None, s0 = cons2)"
   ]
  },
  {
   "cell_type": "markdown",
   "metadata": {},
   "source": [
    "Calculate depths"
   ]
  },
  {
   "cell_type": "code",
   "execution_count": 41,
   "metadata": {},
   "outputs": [],
   "source": [
    "depths1 = np.transpose(np.array([qrdepth(empDist1, empDist1), qrdepth(empDist1, empDist2)]))\n",
    "#print(depths1)\n",
    "depths2 = np.transpose(np.array([qrdepth(empDist2, empDist1), qrdepth(empDist2, empDist2)]))\n",
    "#print(depths2)"
   ]
  },
  {
   "cell_type": "markdown",
   "metadata": {},
   "source": [
    "Show the DD-plot"
   ]
  },
  {
   "cell_type": "code",
   "execution_count": 42,
   "metadata": {},
   "outputs": [
    {
     "data": {
      "image/png": "[encoded data removed]",
      "text/plain": [
       "<Figure size 360x360 with 1 Axes>"
      ]
     },
     "metadata": {
      "needs_background": "light"
     },
     "output_type": "display_data"
    }
   ],
   "source": [
    "plt.close(\"all\")\n",
    "plt.figure(1, figsize=(5, 5))\n",
    "plt.title(modelNames[iModel] + \" model\")\n",
    "plt.plot(depths1[:,0], depths1[:,1], 'r.')\n",
    "plt.plot(depths2[:,0], depths2[:,1], 'g.')\n",
    "plt.xlabel(\"Depth w.r.t. Distribution 1\")\n",
    "plt.ylabel(\"Depth w.r.t. Distribution 2\")\n",
    "plt.ylim(0, 1)\n",
    "plt.xlim(0, 1)\n",
    "plt.grid()\n",
    "plt.savefig(\"pic-ddplot-n10-\" + modelShorts[iModel] + \".pdf\")"
   ]
  },
  {
   "cell_type": "code",
   "execution_count": null,
   "metadata": {},
   "outputs": [],
   "source": []
  }
 ],
 "metadata": {
  "kernelspec": {
   "display_name": "Python 3",
   "language": "python",
   "name": "python3"
  },
  "language_info": {
   "codemirror_mode": {
    "name": "ipython",
    "version": 3
   },
   "file_extension": ".py",
   "mimetype": "text/x-python",
   "name": "python",
   "nbconvert_exporter": "python",
   "pygments_lexer": "ipython3",
   "version": "3.8.3"
  }
 },
 "nbformat": 4,
 "nbformat_minor": 4
}
