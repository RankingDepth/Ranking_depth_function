{
  "cells": [
    {
      "cell_type": "code",
      "source": [
        "import collections\n",
        "import seaborn as sns\n",
        "import subprocess\n",
        "import numpy as np\n",
        "import itertools as it\n",
        "import scipy as sp\n",
        "import pandas as pd\n",
        "import matplotlib.pyplot as plt\n",
        "from  imp import reload\n",
        "import sys\n",
        "sys.path.insert(1, '../mallows_kendall')\n",
        "sys.path.insert(1, '../permus_util')\n",
        "\n",
        "import mallows_kendall as mk\n",
        "import permutil as pu"
      ],
      "outputs": [],
      "execution_count": 1,
      "metadata": {
        "collapsed": true,
        "jupyter": {
          "source_hidden": false,
          "outputs_hidden": false
        },
        "nteract": {
          "transient": {
            "deleting": false
          }
        },
        "execution": {
          "iopub.status.busy": "2021-02-09T18:49:16.264Z",
          "iopub.execute_input": "2021-02-09T18:49:16.271Z",
          "iopub.status.idle": "2021-02-09T18:49:17.620Z",
          "shell.execute_reply": "2021-02-09T18:49:17.631Z"
        }
      }
    },
    {
      "cell_type": "markdown",
      "source": [
        "# check \n",
        "that the distance to the sample is done in $O(n)$"
      ],
      "metadata": {
        "nteract": {
          "transient": {
            "deleting": false
          }
        }
      }
    },
    {
      "cell_type": "code",
      "source": [
        "def sum_dist_slow(sample,perm):\n",
        "  return np.sum([mk.kendall_tau(perm,p) for p in sample])/len(sample)\n",
        "\n",
        "m,n = 100,5\n",
        "s0 = np.random.permutation(n)\n",
        "sample = np.array(mk.sampling_mm(m,n,phi=0.5,s0=s0))\n",
        "P = pu.sample_to_marg_rel(sample)\n",
        "P[P==0]=np.nan\n",
        "# print(P,np.tril(P[np.ix_(np.argsort(perm),np.argsort(perm))],k=-1))\n",
        "print(\"error in dists\", pu.dist_to_sample(s0,P) - sum_dist_slow(sample,s0))\n",
        "print(\"error in dists\", pu.dist_to_sample(s0[::-1],P) - sum_dist_slow(sample,s0[::-1]))\n",
        "print(\"error in dists\", pu.dist_to_sample(np.arange(n),P) - sum_dist_slow(sample,np.arange(n)))\n"
      ],
      "outputs": [
        {
          "output_type": "stream",
          "name": "stdout",
          "text": [
            "error in dists 0.0\n",
            "error in dists -4.440892098500626e-16\n",
            "error in dists 0.0\n"
          ]
        }
      ],
      "execution_count": 2,
      "metadata": {
        "collapsed": true,
        "jupyter": {
          "source_hidden": false,
          "outputs_hidden": false
        },
        "nteract": {
          "transient": {
            "deleting": false
          }
        },
        "execution": {
          "iopub.status.busy": "2021-02-09T18:49:17.639Z",
          "iopub.execute_input": "2021-02-09T18:49:17.647Z",
          "iopub.status.idle": "2021-02-09T18:49:17.663Z",
          "shell.execute_reply": "2021-02-09T18:49:17.701Z"
        }
      }
    },
    {
      "cell_type": "markdown",
      "source": [
        "# Funtions to generate pairwise matrices\n",
        "of strongly stochastive preferences of two types: random (` model == p_sst`)and following a Mallos model (`model='mal_ken'`)\n"
      ],
      "metadata": {
        "nteract": {
          "transient": {
            "deleting": false
          }
        }
      }
    },
    {
      "cell_type": "code",
      "source": [
        "def closed_form_pairwise(n,model='mal_ken',phi=None,theta=None):\n",
        "  def h(k,phi):return k/(1-phi**k)\n",
        "  pairw = np.empty((n,n))\n",
        "  pairw[:] = np.nan\n",
        "  if model=='mal_ken':\n",
        "    theta, phi = mk.check_theta_phi(theta, phi)\n",
        "    for i in range(n):\n",
        "      for j in range(i+1,n):\n",
        "        pairw[i,j] = h(j-i+1,phi) - h(j-i,phi)\n",
        "        pairw[j,i] = 1-pairw[i,j]\n",
        "  elif model == 'p_sst': # generate a pairwise\n",
        "    aux = np.concatenate([[0] , np.random.uniform(low=0.5, high=1, size=(n-1)) ])\n",
        "    aux.sort()\n",
        "    for i in range(n):\n",
        "      pairw[i] = aux\n",
        "      aux = np.roll(aux, 1)\n",
        "    for i in range(n):#make symmetric\n",
        "      for j in range(i+1,n):\n",
        "        pairw[j,i] = 1-pairw[i,j]\n",
        "  return pairw\n",
        "\n",
        "n = 6\n",
        "P = closed_form_pairwise(n,model='mal_ken', phi=0.5)\n",
        "# P = closed_form_pairwise(n,model='p_sst')\n",
        "sns.heatmap(P)\n",
        "res  = []\n",
        "for perm in it.permutations(range(n)):\n",
        "  res.append([n*(n-1)/2 - pu.dist_to_sample(perm,P), mk.kendall_tau(perm),perm, mk.ranking_to_v(perm)])\n",
        "df = pd.DataFrame(res,columns=['depth','dist','perm','v'])\n",
        "             "
      ],
      "outputs": [
        {
          "output_type": "display_data",
          "data": {
            "text/plain": "<Figure size 432x288 with 2 Axes>",
            "image/png": "[encoded data removed]"
          },
          "metadata": {
            "needs_background": "light"
          }
        }
      ],
      "execution_count": 3,
      "metadata": {
        "collapsed": true,
        "jupyter": {
          "source_hidden": false,
          "outputs_hidden": false
        },
        "nteract": {
          "transient": {
            "deleting": false
          }
        },
        "execution": {
          "iopub.status.busy": "2021-02-09T18:49:17.674Z",
          "iopub.execute_input": "2021-02-09T18:49:17.681Z",
          "iopub.status.idle": "2021-02-09T18:49:17.923Z",
          "shell.execute_reply": "2021-02-09T18:49:17.934Z"
        }
      }
    },
    {
      "cell_type": "markdown",
      "source": [
        "# How many contours are there?"
      ],
      "metadata": {
        "nteract": {
          "transient": {
            "deleting": false
          }
        }
      }
    },
    {
      "cell_type": "code",
      "source": [
        "fig, ax = plt.subplots(1, 2,figsize=(20,3))\n",
        "aux = df.copy()\n",
        "# aux.depth -= aux.depth.min()\n",
        "# aux.depth /= aux.depth.max()\n",
        "aux.plot.scatter(y='depth',x='dist',ax=ax[0])\n",
        "kk = ax[1].plot(df.depth.sort_values().values, 'o',)"
      ],
      "outputs": [
        {
          "output_type": "display_data",
          "data": {
            "text/plain": "<Figure size 1440x216 with 2 Axes>",
            "image/png": "[encoded data removed]"
          },
          "metadata": {
            "needs_background": "light"
          }
        }
      ],
      "execution_count": 4,
      "metadata": {
        "collapsed": true,
        "jupyter": {
          "source_hidden": false,
          "outputs_hidden": false
        },
        "nteract": {
          "transient": {
            "deleting": false
          }
        },
        "execution": {
          "iopub.status.busy": "2021-02-09T18:49:17.956Z",
          "iopub.execute_input": "2021-02-09T18:49:17.964Z",
          "iopub.status.idle": "2021-02-09T18:49:18.136Z",
          "shell.execute_reply": "2021-02-09T18:49:18.268Z"
        }
      }
    },
    {
      "cell_type": "code",
      "source": [
        "df[df.dist==2].sort_values(by='depth')"
      ],
      "outputs": [
        {
          "output_type": "execute_result",
          "execution_count": 5,
          "data": {
            "text/plain": "         depth  dist                perm                   v\n3    10.761290     2  (0, 1, 2, 4, 5, 3)  [0, 0, 0, 1, 1, 0]\n4    10.761290     2  (0, 1, 2, 5, 3, 4)  [0, 0, 0, 2, 0, 0]\n8    10.761290     2  (0, 1, 3, 4, 2, 5)  [0, 0, 1, 1, 0, 0]\n12   10.761290     2  (0, 1, 4, 2, 3, 5)  [0, 0, 2, 0, 0, 0]\n30   10.761290     2  (0, 2, 3, 1, 4, 5)  [0, 1, 1, 0, 0, 0]\n48   10.761290     2  (0, 3, 1, 2, 4, 5)  [0, 2, 0, 0, 0, 0]\n144  10.761290     2  (1, 2, 0, 3, 4, 5)  [1, 1, 0, 0, 0, 0]\n240  10.761290     2  (2, 0, 1, 3, 4, 5)  [2, 0, 0, 0, 0, 0]\n7    10.951767     2  (0, 1, 3, 2, 5, 4)  [0, 0, 1, 0, 1, 0]\n25   10.951767     2  (0, 2, 1, 3, 5, 4)  [0, 1, 0, 0, 1, 0]\n26   10.951767     2  (0, 2, 1, 4, 3, 5)  [0, 1, 0, 1, 0, 0]\n121  10.951767     2  (1, 0, 2, 3, 5, 4)  [1, 0, 0, 0, 1, 0]\n122  10.951767     2  (1, 0, 2, 4, 3, 5)  [1, 0, 0, 1, 0, 0]\n126  10.951767     2  (1, 0, 3, 2, 4, 5)  [1, 0, 1, 0, 0, 0]",
            "text/html": "<div>\n<style scoped>\n    .dataframe tbody tr th:only-of-type {\n        vertical-align: middle;\n    }\n\n    .dataframe tbody tr th {\n        vertical-align: top;\n    }\n\n    .dataframe thead th {\n        text-align: right;\n    }\n</style>\n<table border=\"1\" class=\"dataframe\">\n  <thead>\n    <tr style=\"text-align: right;\">\n      <th></th>\n      <th>depth</th>\n      <th>dist</th>\n      <th>perm</th>\n      <th>v</th>\n    </tr>\n  </thead>\n  <tbody>\n    <tr>\n      <th>3</th>\n      <td>10.761290</td>\n      <td>2</td>\n      <td>(0, 1, 2, 4, 5, 3)</td>\n      <td>[0, 0, 0, 1, 1, 0]</td>\n    </tr>\n    <tr>\n      <th>4</th>\n      <td>10.761290</td>\n      <td>2</td>\n      <td>(0, 1, 2, 5, 3, 4)</td>\n      <td>[0, 0, 0, 2, 0, 0]</td>\n    </tr>\n    <tr>\n      <th>8</th>\n      <td>10.761290</td>\n      <td>2</td>\n      <td>(0, 1, 3, 4, 2, 5)</td>\n      <td>[0, 0, 1, 1, 0, 0]</td>\n    </tr>\n    <tr>\n      <th>12</th>\n      <td>10.761290</td>\n      <td>2</td>\n      <td>(0, 1, 4, 2, 3, 5)</td>\n      <td>[0, 0, 2, 0, 0, 0]</td>\n    </tr>\n    <tr>\n      <th>30</th>\n      <td>10.761290</td>\n      <td>2</td>\n      <td>(0, 2, 3, 1, 4, 5)</td>\n      <td>[0, 1, 1, 0, 0, 0]</td>\n    </tr>\n    <tr>\n      <th>48</th>\n      <td>10.761290</td>\n      <td>2</td>\n      <td>(0, 3, 1, 2, 4, 5)</td>\n      <td>[0, 2, 0, 0, 0, 0]</td>\n    </tr>\n    <tr>\n      <th>144</th>\n      <td>10.761290</td>\n      <td>2</td>\n      <td>(1, 2, 0, 3, 4, 5)</td>\n      <td>[1, 1, 0, 0, 0, 0]</td>\n    </tr>\n    <tr>\n      <th>240</th>\n      <td>10.761290</td>\n      <td>2</td>\n      <td>(2, 0, 1, 3, 4, 5)</td>\n      <td>[2, 0, 0, 0, 0, 0]</td>\n    </tr>\n    <tr>\n      <th>7</th>\n      <td>10.951767</td>\n      <td>2</td>\n      <td>(0, 1, 3, 2, 5, 4)</td>\n      <td>[0, 0, 1, 0, 1, 0]</td>\n    </tr>\n    <tr>\n      <th>25</th>\n      <td>10.951767</td>\n      <td>2</td>\n      <td>(0, 2, 1, 3, 5, 4)</td>\n      <td>[0, 1, 0, 0, 1, 0]</td>\n    </tr>\n    <tr>\n      <th>26</th>\n      <td>10.951767</td>\n      <td>2</td>\n      <td>(0, 2, 1, 4, 3, 5)</td>\n      <td>[0, 1, 0, 1, 0, 0]</td>\n    </tr>\n    <tr>\n      <th>121</th>\n      <td>10.951767</td>\n      <td>2</td>\n      <td>(1, 0, 2, 3, 5, 4)</td>\n      <td>[1, 0, 0, 0, 1, 0]</td>\n    </tr>\n    <tr>\n      <th>122</th>\n      <td>10.951767</td>\n      <td>2</td>\n      <td>(1, 0, 2, 4, 3, 5)</td>\n      <td>[1, 0, 0, 1, 0, 0]</td>\n    </tr>\n    <tr>\n      <th>126</th>\n      <td>10.951767</td>\n      <td>2</td>\n      <td>(1, 0, 3, 2, 4, 5)</td>\n      <td>[1, 0, 1, 0, 0, 0]</td>\n    </tr>\n  </tbody>\n</table>\n</div>"
          },
          "metadata": {}
        }
      ],
      "execution_count": 5,
      "metadata": {
        "collapsed": true,
        "jupyter": {
          "source_hidden": false,
          "outputs_hidden": false
        },
        "nteract": {
          "transient": {
            "deleting": false
          }
        },
        "execution": {
          "iopub.status.busy": "2021-02-09T18:49:18.146Z",
          "iopub.execute_input": "2021-02-09T18:49:18.153Z",
          "iopub.status.idle": "2021-02-09T18:49:18.168Z",
          "shell.execute_reply": "2021-02-09T18:49:18.274Z"
        }
      }
    },
    {
      "cell_type": "code",
      "source": [
        "perm = np.random.permutation(n)\n",
        "[mk.kendall_tau(perm,p[perm]) for p in pu.full_perm_path(n)]"
      ],
      "outputs": [
        {
          "output_type": "execute_result",
          "execution_count": 6,
          "data": {
            "text/plain": "[0, 1, 2, 3, 4, 5, 6, 7, 8, 9, 10, 11, 12, 13, 14, 15]"
          },
          "metadata": {}
        }
      ],
      "execution_count": 6,
      "metadata": {
        "collapsed": true,
        "jupyter": {
          "source_hidden": false,
          "outputs_hidden": false
        },
        "nteract": {
          "transient": {
            "deleting": false
          }
        },
        "execution": {
          "iopub.status.busy": "2021-02-09T18:49:18.179Z",
          "iopub.execute_input": "2021-02-09T18:49:18.186Z",
          "iopub.status.idle": "2021-02-09T18:49:18.199Z",
          "shell.execute_reply": "2021-02-09T18:49:18.280Z"
        }
      }
    },
    {
      "cell_type": "markdown",
      "source": [
        "# generate a ranking s.t. $L(\\sigma) \\leq u$"
      ],
      "metadata": {
        "nteract": {
          "transient": {
            "deleting": false
          }
        }
      }
    },
    {
      "cell_type": "code",
      "source": [
        "\n",
        "def get_farther_neighbors(sigma):\n",
        "  neis = []\n",
        "  for i in range(n):\n",
        "    for j in range(i+1,n):\n",
        "      if sigma[j] == 1+sigma[i]: \n",
        "        aux = sigma.copy()\n",
        "        aux[i],aux[j] = aux[j],aux[i]\n",
        "        neis.append(aux)\n",
        "  return np.array(neis)\n",
        "\n",
        "def sample_contour(P,sigma, loss_max, verbose=False):\n",
        "  path = []\n",
        "  further_moves = True\n",
        "  sigma = np.arange(n)\n",
        "  sigma_ini = sigma.copy()\n",
        "  while further_moves:\n",
        "    neis = get_farther_neighbors(sigma)\n",
        "    losses = np.array([pu.dist_to_sample(perm,P) for perm in neis])\n",
        "    if verbose:\n",
        "      print(sigma, loss_max,mk.kendall_tau(sigma))\n",
        "      print(neis)\n",
        "      print(losses)\n",
        "    neis = neis[losses < loss_max]\n",
        "    losses = losses[losses < loss_max]\n",
        "    if len(losses)>0:\n",
        "      sigma_ind = np.random.choice(range(len(neis)))#,p=losses/losses.sum()\n",
        "      sigma = neis[sigma_ind]\n",
        "      path.append(sigma)\n",
        "    if (sigma == sigma_ini[::-1]).all() or len(losses)==0:\n",
        "      further_moves = False\n",
        "  return sigma\n",
        "\n",
        "print(\"loss of mode and antimode\", pu.dist_to_sample(np.arange(n),P), pu.dist_to_sample(np.arange(n)[::-1],P))\n",
        "sample_contour(P,np.arange(n), loss_max=15, verbose=True)"
      ],
      "outputs": [
        {
          "output_type": "stream",
          "name": "stdout",
          "text": [
            "loss of mode and antimode 5.2950761610206705 22.70492383897933\n",
            "[0 1 2 3 4 5 6 7] 15 0\n",
            "[[1 0 2 3 4 5 6 7]\n",
            " [0 2 1 3 4 5 6 7]\n",
            " [0 1 3 2 4 5 6 7]\n",
            " [0 1 2 4 3 5 6 7]\n",
            " [0 1 2 3 5 4 6 7]\n",
            " [0 1 2 3 4 6 5 7]\n",
            " [0 1 2 3 4 5 7 6]]\n",
            "[5.62840949 5.62840949 5.62840949 5.62840949 5.62840949 5.62840949\n",
            " 5.62840949]\n",
            "[1 0 2 3 4 5 6 7] 15 1\n",
            "[[2 0 1 3 4 5 6 7]\n",
            " [1 0 3 2 4 5 6 7]\n",
            " [1 0 2 4 3 5 6 7]\n",
            " [1 0 2 3 5 4 6 7]\n",
            " [1 0 2 3 4 6 5 7]\n",
            " [1 0 2 3 4 5 7 6]]\n",
            "[6.15221902 5.96174283 5.96174283 5.96174283 5.96174283 5.96174283]\n",
            "[1 0 2 4 3 5 6 7] 15 2\n",
            "[[2 0 1 4 3 5 6 7]\n",
            " [1 0 3 4 2 5 6 7]\n",
            " [1 0 2 5 3 4 6 7]\n",
            " [1 0 2 4 3 6 5 7]\n",
            " [1 0 2 4 3 5 7 6]]\n",
            "[6.48555235 6.48555235 6.48555235 6.29507616 6.29507616]\n",
            "[1 0 2 4 3 5 7 6] 15 3\n",
            "[[2 0 1 4 3 5 7 6]\n",
            " [1 0 3 4 2 5 7 6]\n",
            " [1 0 2 5 3 4 7 6]\n",
            " [1 0 2 4 3 6 7 5]]\n",
            "[6.81888568 6.81888568 6.81888568 6.81888568]\n",
            "[1 0 2 5 3 4 7 6] 15 4\n",
            "[[2 0 1 5 3 4 7 6]\n",
            " [1 0 3 5 2 4 7 6]\n",
            " [1 0 2 6 3 4 7 5]\n",
            " [1 0 2 5 4 3 7 6]]\n",
            "[7.34269521 7.34269521 7.608133   7.15221902]\n",
            "[1 0 3 5 2 4 7 6] 15 5\n",
            "[[2 0 3 5 1 4 7 6]\n",
            " [1 0 4 5 2 3 7 6]\n",
            " [1 0 3 6 2 4 7 5]]\n",
            "[8.13194252 8.01888568 8.13194252]\n",
            "[2 0 3 5 1 4 7 6] 15 6\n",
            "[[3 0 2 5 1 4 7 6]\n",
            " [2 1 3 5 0 4 7 6]\n",
            " [2 0 4 5 1 3 7 6]\n",
            " [2 0 3 6 1 4 7 5]]\n",
            "[8.65575204 8.808133   8.808133   8.92118983]\n",
            "[3 0 2 5 1 4 7 6] 15 7\n",
            "[[4 0 2 5 1 3 7 6]\n",
            " [3 1 2 5 0 4 7 6]\n",
            " [3 0 2 6 1 4 7 5]]\n",
            "[9.52364759 9.33194252 9.44499936]\n",
            "[3 0 2 6 1 4 7 5] 15 8\n",
            "[[4 0 2 6 1 3 7 5]\n",
            " [3 1 2 6 0 4 7 5]\n",
            " [3 0 2 7 1 4 6 5]\n",
            " [3 0 2 6 1 5 7 4]]\n",
            "[10.3128949  10.12118983 10.12118983  9.96880888]\n",
            "[3 1 2 6 0 4 7 5] 15 9\n",
            "[[4 1 2 6 0 3 7 5]\n",
            " [3 2 1 6 0 4 7 5]\n",
            " [3 1 2 7 0 4 6 5]\n",
            " [3 1 2 6 0 5 7 4]]\n",
            "[10.98908538 10.45452317 10.79738031 10.64499936]\n",
            "[3 1 2 6 0 5 7 4] 15 10\n",
            "[[4 1 2 6 0 5 7 3]\n",
            " [3 2 1 6 0 5 7 4]\n",
            " [3 1 2 7 0 5 6 4]]\n",
            "[11.59750823 10.97833269 11.32118983]\n",
            "[3 1 2 7 0 5 6 4] 15 11\n",
            "[[4 1 2 7 0 5 6 3]\n",
            " [3 2 1 7 0 5 6 4]\n",
            " [3 1 2 7 0 6 5 4]]\n",
            "[12.27369871 11.65452317 11.65452317]\n",
            "[3 2 1 7 0 5 6 4] 15 12\n",
            "[[4 2 1 7 0 5 6 3]\n",
            " [3 2 1 7 0 6 5 4]]\n",
            "[12.60703204 11.9878565 ]\n",
            "[3 2 1 7 0 6 5 4] 15 13\n",
            "[[4 2 1 7 0 6 5 3]]\n",
            "[12.94036538]\n",
            "[4 2 1 7 0 6 5 3] 15 14\n",
            "[[5 2 1 7 0 6 4 3]\n",
            " [4 3 1 7 0 6 5 2]]\n",
            "[13.86012541 13.86012541]\n",
            "[5 2 1 7 0 6 4 3] 15 15\n",
            "[[6 2 1 7 0 5 4 3]\n",
            " [5 3 1 7 0 6 4 2]]\n",
            "[14.72802095 14.77988544]\n",
            "[6 2 1 7 0 5 4 3] 15 16\n",
            "[[7 2 1 6 0 5 4 3]\n",
            " [6 3 1 7 0 5 4 2]]\n",
            "[15.40421143 15.64778098]\n"
          ]
        },
        {
          "output_type": "execute_result",
          "execution_count": 15,
          "data": {
            "text/plain": "array([6, 2, 1, 7, 0, 5, 4, 3])"
          },
          "metadata": {}
        }
      ],
      "execution_count": 15,
      "metadata": {
        "collapsed": true,
        "jupyter": {
          "source_hidden": false,
          "outputs_hidden": false
        },
        "nteract": {
          "transient": {
            "deleting": false
          }
        },
        "execution": {
          "iopub.status.busy": "2021-02-09T18:50:38.901Z",
          "iopub.execute_input": "2021-02-09T18:50:38.908Z",
          "iopub.status.idle": "2021-02-09T18:50:38.930Z",
          "shell.execute_reply": "2021-02-09T18:50:38.950Z"
        }
      }
    },
    {
      "cell_type": "markdown",
      "source": [
        "### is it biased??\n",
        "yes, "
      ],
      "metadata": {
        "nteract": {
          "transient": {
            "deleting": false
          }
        }
      }
    },
    {
      "cell_type": "code",
      "source": [
        "n = 5\n",
        "repes = 1000\n",
        "loss_max = 5\n",
        "P = closed_form_pairwise(n,model='mal_ken', phi=0.9)\n",
        "# P = closed_form_pairwise(n,model='p_sst')\n",
        "print(\"loss of mode and antimode\", pu.dist_to_sample(np.arange(n),P), pu.dist_to_sample(np.arange(n)[::-1],P))\n",
        "res = [tuple(sample_contour(P,np.arange(n), loss_max=loss_max)) for i in range(repes)]  \n",
        "counter = collections.Counter(res)\n",
        "counter.values(),counter.keys()"
      ],
      "outputs": [
        {
          "output_type": "stream",
          "name": "stdout",
          "text": [
            "loss of mode and antimode 4.562571295758026 5.437428704241974\n"
          ]
        },
        {
          "output_type": "execute_result",
          "execution_count": 8,
          "data": {
            "text/plain": "(dict_values([58, 156, 134, 156, 51, 188, 46, 50, 43, 42, 58, 14, 4]),\n dict_keys([(0, 4, 2, 3, 1), (2, 1, 4, 0, 3), (1, 4, 0, 3, 2), (3, 1, 0, 4, 2), (2, 3, 1, 0, 4), (2, 0, 4, 3, 1), (0, 3, 4, 2, 1), (3, 0, 2, 4, 1), (0, 4, 3, 1, 2), (3, 2, 0, 1, 4), (3, 1, 2, 0, 4), (1, 2, 3, 4, 0), (4, 0, 1, 2, 3)]))"
          },
          "metadata": {}
        }
      ],
      "execution_count": 8,
      "metadata": {
        "collapsed": true,
        "jupyter": {
          "source_hidden": false,
          "outputs_hidden": false
        },
        "nteract": {
          "transient": {
            "deleting": false
          }
        },
        "execution": {
          "iopub.status.busy": "2021-02-09T18:49:18.240Z",
          "iopub.execute_input": "2021-02-09T18:49:18.245Z",
          "iopub.status.idle": "2021-02-09T18:49:18.963Z",
          "shell.execute_reply": "2021-02-09T18:49:19.024Z"
        }
      }
    },
    {
      "cell_type": "markdown",
      "source": [
        "# can we partition the space in sets of eq caldinality?\n",
        "with the bounds -> nop"
      ],
      "metadata": {
        "nteract": {
          "transient": {
            "deleting": false
          }
        }
      }
    },
    {
      "cell_type": "code",
      "source": [
        "def get_bounds(P):\n",
        "  # identity as center\n",
        "  L = np.tril(P, k=-1)\n",
        "  L = np.sort(L[L!=0])\n",
        "  L0 = np.sum(L)\n",
        "  res = []\n",
        "  for d in range(int(1+n*(n-1)/2)):\n",
        "    mi = L0 + np.sum([(1-L[ j]) - L[ j] for j in range(d)])\n",
        "    ma = L0 + np.sum([(1-L[-j-1]) - L[-j-1] for j in range(d)])\n",
        "    res.append([mi,ma])\n",
        "  df = pd.DataFrame(res, columns=['lmax','lmin'])\n",
        "  return df"
      ],
      "outputs": [],
      "execution_count": 9,
      "metadata": {
        "collapsed": true,
        "jupyter": {
          "source_hidden": false,
          "outputs_hidden": false
        },
        "nteract": {
          "transient": {
            "deleting": false
          }
        },
        "execution": {
          "iopub.status.busy": "2021-02-09T18:49:18.973Z",
          "iopub.execute_input": "2021-02-09T18:49:18.979Z",
          "iopub.status.idle": "2021-02-09T18:49:18.990Z",
          "shell.execute_reply": "2021-02-09T18:49:19.029Z"
        }
      }
    },
    {
      "cell_type": "code",
      "source": [
        "n = 8\n",
        "P = closed_form_pairwise(n,model='mal_ken', phi=0.5)\n",
        "losses = np.array([pu.dist_to_sample(perm,P) for perm in it.permutations(range(n))])\n",
        "dfbounds = get_bounds(P)\n",
        "countmi = []\n",
        "for lmi in dfbounds.lmin.values:\n",
        "  countmi.append(len(losses[losses <= lmi]))\n",
        "  losses = losses[losses >= lmi]\n",
        "losses = np.array([pu.dist_to_sample(perm,P) for perm in it.permutations(range(n))])\n",
        "countma = []\n",
        "for lma in dfbounds.lmax.values[::-1]:\n",
        "  countma.append(len(losses[losses >= lma]))\n",
        "  losses = losses[losses <= lma]\n",
        "countb = []\n",
        "losses = np.array([pu.dist_to_sample(perm,P) for perm in it.permutations(range(n))])\n",
        "for lmi in np.sort( np.concatenate([dfbounds.lmin.values , dfbounds.lmax.values])):\n",
        "  countb.append(len(losses[losses <= lmi]))\n",
        "  losses = losses[losses >= lmi]\n",
        "df = pd.DataFrame()\n",
        "# df['countb'] = countb\n",
        "df['countmi'] = countmi\n",
        "df['countma'] = countma\n",
        "sk = mk.num_perms_at_dist(n)\n",
        "df['sk'] = sk[n,:]\n",
        "df.plot()\n",
        "plt.plot(countb)"
      ],
      "outputs": [
        {
          "output_type": "execute_result",
          "execution_count": 10,
          "data": {
            "text/plain": "[<matplotlib.lines.Line2D at 0x1303eccd0>]"
          },
          "metadata": {}
        },
        {
          "output_type": "display_data",
          "data": {
            "text/plain": "<Figure size 432x288 with 1 Axes>",
            "image/png": "[encoded data removed]"
          },
          "metadata": {
            "needs_background": "light"
          }
        }
      ],
      "execution_count": 10,
      "metadata": {
        "collapsed": true,
        "jupyter": {
          "source_hidden": false,
          "outputs_hidden": false
        },
        "nteract": {
          "transient": {
            "deleting": false
          }
        },
        "execution": {
          "iopub.status.busy": "2021-02-09T18:49:19.000Z",
          "iopub.execute_input": "2021-02-09T18:49:19.006Z",
          "iopub.status.idle": "2021-02-09T18:49:23.833Z",
          "shell.execute_reply": "2021-02-09T18:49:23.887Z"
        }
      }
    },
    {
      "cell_type": "code",
      "source": [
        "df"
      ],
      "outputs": [
        {
          "output_type": "execute_result",
          "execution_count": 11,
          "data": {
            "text/plain": "    countmi  countma    sk\n0         1        1     1\n1         7        7     7\n2        15       22    27\n3        22       24    76\n4        47       57   174\n5        64       65   343\n6       120      120   602\n7       173      173   961\n8       390      390  1415\n9       520      520  1940\n10      792      792  2493\n11      973      973  3017\n12     1155     1155  3450\n13     1550     1550  3736\n14     2309     2309  3836\n15     2804     2804  3736\n16     3217     3217  3450\n17     3427     3427  3017\n18     3471     3471  2493\n19     3989     3989  1940\n20     3648     3648  1415\n21     3240     3240   961\n22     2716     2716   602\n23     2310     2310   343\n24     1600     1600   174\n25      955      955    76\n26      537      537    27\n27      233      233     7\n28       35       34     1",
            "text/html": "<div>\n<style scoped>\n    .dataframe tbody tr th:only-of-type {\n        vertical-align: middle;\n    }\n\n    .dataframe tbody tr th {\n        vertical-align: top;\n    }\n\n    .dataframe thead th {\n        text-align: right;\n    }\n</style>\n<table border=\"1\" class=\"dataframe\">\n  <thead>\n    <tr style=\"text-align: right;\">\n      <th></th>\n      <th>countmi</th>\n      <th>countma</th>\n      <th>sk</th>\n    </tr>\n  </thead>\n  <tbody>\n    <tr>\n      <th>0</th>\n      <td>1</td>\n      <td>1</td>\n      <td>1</td>\n    </tr>\n    <tr>\n      <th>1</th>\n      <td>7</td>\n      <td>7</td>\n      <td>7</td>\n    </tr>\n    <tr>\n      <th>2</th>\n      <td>15</td>\n      <td>22</td>\n      <td>27</td>\n    </tr>\n    <tr>\n      <th>3</th>\n      <td>22</td>\n      <td>24</td>\n      <td>76</td>\n    </tr>\n    <tr>\n      <th>4</th>\n      <td>47</td>\n      <td>57</td>\n      <td>174</td>\n    </tr>\n    <tr>\n      <th>5</th>\n      <td>64</td>\n      <td>65</td>\n      <td>343</td>\n    </tr>\n    <tr>\n      <th>6</th>\n      <td>120</td>\n      <td>120</td>\n      <td>602</td>\n    </tr>\n    <tr>\n      <th>7</th>\n      <td>173</td>\n      <td>173</td>\n      <td>961</td>\n    </tr>\n    <tr>\n      <th>8</th>\n      <td>390</td>\n      <td>390</td>\n      <td>1415</td>\n    </tr>\n    <tr>\n      <th>9</th>\n      <td>520</td>\n      <td>520</td>\n      <td>1940</td>\n    </tr>\n    <tr>\n      <th>10</th>\n      <td>792</td>\n      <td>792</td>\n      <td>2493</td>\n    </tr>\n    <tr>\n      <th>11</th>\n      <td>973</td>\n      <td>973</td>\n      <td>3017</td>\n    </tr>\n    <tr>\n      <th>12</th>\n      <td>1155</td>\n      <td>1155</td>\n      <td>3450</td>\n    </tr>\n    <tr>\n      <th>13</th>\n      <td>1550</td>\n      <td>1550</td>\n      <td>3736</td>\n    </tr>\n    <tr>\n      <th>14</th>\n      <td>2309</td>\n      <td>2309</td>\n      <td>3836</td>\n    </tr>\n    <tr>\n      <th>15</th>\n      <td>2804</td>\n      <td>2804</td>\n      <td>3736</td>\n    </tr>\n    <tr>\n      <th>16</th>\n      <td>3217</td>\n      <td>3217</td>\n      <td>3450</td>\n    </tr>\n    <tr>\n      <th>17</th>\n      <td>3427</td>\n      <td>3427</td>\n      <td>3017</td>\n    </tr>\n    <tr>\n      <th>18</th>\n      <td>3471</td>\n      <td>3471</td>\n      <td>2493</td>\n    </tr>\n    <tr>\n      <th>19</th>\n      <td>3989</td>\n      <td>3989</td>\n      <td>1940</td>\n    </tr>\n    <tr>\n      <th>20</th>\n      <td>3648</td>\n      <td>3648</td>\n      <td>1415</td>\n    </tr>\n    <tr>\n      <th>21</th>\n      <td>3240</td>\n      <td>3240</td>\n      <td>961</td>\n    </tr>\n    <tr>\n      <th>22</th>\n      <td>2716</td>\n      <td>2716</td>\n      <td>602</td>\n    </tr>\n    <tr>\n      <th>23</th>\n      <td>2310</td>\n      <td>2310</td>\n      <td>343</td>\n    </tr>\n    <tr>\n      <th>24</th>\n      <td>1600</td>\n      <td>1600</td>\n      <td>174</td>\n    </tr>\n    <tr>\n      <th>25</th>\n      <td>955</td>\n      <td>955</td>\n      <td>76</td>\n    </tr>\n    <tr>\n      <th>26</th>\n      <td>537</td>\n      <td>537</td>\n      <td>27</td>\n    </tr>\n    <tr>\n      <th>27</th>\n      <td>233</td>\n      <td>233</td>\n      <td>7</td>\n    </tr>\n    <tr>\n      <th>28</th>\n      <td>35</td>\n      <td>34</td>\n      <td>1</td>\n    </tr>\n  </tbody>\n</table>\n</div>"
          },
          "metadata": {}
        }
      ],
      "execution_count": 11,
      "metadata": {
        "collapsed": true,
        "jupyter": {
          "source_hidden": false,
          "outputs_hidden": false
        },
        "nteract": {
          "transient": {
            "deleting": false
          }
        },
        "execution": {
          "iopub.status.busy": "2021-02-09T18:49:23.843Z",
          "iopub.execute_input": "2021-02-09T18:49:23.850Z",
          "iopub.status.idle": "2021-02-09T18:49:23.866Z",
          "shell.execute_reply": "2021-02-09T18:49:23.892Z"
        }
      }
    },
    {
      "cell_type": "code",
      "source": [],
      "outputs": [],
      "execution_count": null,
      "metadata": {
        "collapsed": true,
        "jupyter": {
          "source_hidden": false,
          "outputs_hidden": false
        },
        "nteract": {
          "transient": {
            "deleting": false
          }
        }
      }
    },
    {
      "cell_type": "code",
      "source": [],
      "outputs": [],
      "execution_count": null,
      "metadata": {
        "collapsed": true,
        "jupyter": {
          "source_hidden": false,
          "outputs_hidden": false
        },
        "nteract": {
          "transient": {
            "deleting": false
          }
        }
      }
    },
    {
      "cell_type": "code",
      "source": [],
      "outputs": [],
      "execution_count": null,
      "metadata": {
        "collapsed": true,
        "jupyter": {
          "source_hidden": false,
          "outputs_hidden": false
        },
        "nteract": {
          "transient": {
            "deleting": false
          }
        }
      }
    },
    {
      "cell_type": "code",
      "source": [],
      "outputs": [],
      "execution_count": null,
      "metadata": {
        "collapsed": true,
        "jupyter": {
          "source_hidden": false,
          "outputs_hidden": false
        },
        "nteract": {
          "transient": {
            "deleting": false
          }
        }
      }
    }
  ],
  "metadata": {
    "kernel_info": {
      "name": "python3"
    },
    "language_info": {
      "name": "python",
      "version": "3.9.0",
      "mimetype": "text/x-python",
      "codemirror_mode": {
        "name": "ipython",
        "version": 3
      },
      "pygments_lexer": "ipython3",
      "nbconvert_exporter": "python",
      "file_extension": ".py"
    },
    "kernelspec": {
      "argv": [
        "/usr/local/bin/python3",
        "-m",
        "ipykernel_launcher",
        "-f",
        "{connection_file}"
      ],
      "display_name": "Python 3",
      "language": "python",
      "name": "python3"
    },
    "nteract": {
      "version": "0.28.0"
    }
  },
  "nbformat": 4,
  "nbformat_minor": 0
}