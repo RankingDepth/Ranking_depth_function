{
 "cells": [
  {
   "cell_type": "code",
   "execution_count": 1,
   "metadata": {
    "execution": {
     "iopub.execute_input": "2021-05-14T07:23:51.284Z",
     "iopub.status.busy": "2021-05-14T07:23:51.274Z",
     "iopub.status.idle": "2021-05-14T07:23:52.682Z",
     "shell.execute_reply": "2021-05-14T07:23:52.804Z"
    },
    "jupyter": {
     "outputs_hidden": false,
     "source_hidden": false
    },
    "nteract": {
     "transient": {
      "deleting": false
     }
    }
   },
   "outputs": [],
   "source": [
    "from sklearn.cluster import KMeans\n",
    "import sys\n",
    "# sys.path.insert(1, '../permus_util')\n",
    "# sys.path.insert(0, '/Users/ekhi/Desktop/gits/top-k-mallows')\n",
    "\n",
    "import mallows_kendall as mk\n",
    "import permutil as pu\n",
    "import seaborn as sns\n",
    "import pandas as pd\n",
    "import numpy as np\n",
    "import matplotlib.pyplot as plt\n",
    "import random\n",
    "import math\n",
    "from scipy.stats import rankdata\n",
    "from scipy.stats import norm"
   ]
  },
  {
   "cell_type": "markdown",
   "metadata": {},
   "source": [
    "# Load sushi main and auxilary data"
   ]
  },
  {
   "cell_type": "code",
   "execution_count": 28,
   "metadata": {},
   "outputs": [
    {
     "name": "stdout",
     "output_type": "stream",
     "text": [
      "(5000, 10)\n",
      "<bound method NDFrame.head of       2   3   4   5   6   7   8   9   10  11\n",
      "0      5   0   3   4   6   9   8   1   7   2\n",
      "1      0   9   6   3   7   2   8   1   5   4\n",
      "2      7   0   2   3   8   4   5   1   9   6\n",
      "3      4   5   7   0   2   3   1   6   8   9\n",
      "4      8   6   5   0   3   9   2   7   4   1\n",
      "...   ..  ..  ..  ..  ..  ..  ..  ..  ..  ..\n",
      "4995   3   7   4   5   6   0   1   2   8   9\n",
      "4996   7   1   3   8   6   0   5   2   9   4\n",
      "4997   7   2   4   5   3   6   1   0   8   9\n",
      "4998   7   2   3   0   8   1   5   9   6   4\n",
      "4999   0   5   3   4   7   2   6   9   8   1\n",
      "\n",
      "[5000 rows x 10 columns]>\n",
      "(5000, 10)\n",
      "[[5 0 3 4 6 9 8 1 7 2]\n",
      " [0 9 6 3 7 2 8 1 5 4]\n",
      " [7 0 2 3 8 4 5 1 9 6]\n",
      " [4 5 7 0 2 3 1 6 8 9]\n",
      " [8 6 5 0 3 9 2 7 4 1]]\n",
      "(5000, 11)\n",
      "<bound method NDFrame.head of          0   1   2    3   4   5   6   7   8   9   10\n",
      "0      6371   0   2  355   0   0   0   0   0   0   0\n",
      "1     10007   1   1  214  26   6   1  26   6   1   0\n",
      "2      1777   1   2  363  29   6   1  26   6   1   1\n",
      "3      3613   0   4  395  40   9   1  26   6   1   1\n",
      "4      8081   1   1  707  26   6   1  36   8   1   1\n",
      "...     ...  ..  ..  ...  ..  ..  ..  ..  ..  ..  ..\n",
      "4995   5265   0   4  621  31   7   1  13   3   0   1\n",
      "4996   8756   1   3  316  13   3   0  13   3   0   0\n",
      "4997   4623   0   1  259  25   6   1  25   6   1   0\n",
      "4998  10128   1   2  227  21   2   0  14   3   0   1\n",
      "4999   8637   1   2  300   3   1   0  39   9   1   1\n",
      "\n",
      "[5000 rows x 11 columns]>\n",
      "(5000, 11)\n",
      "[[ 6371     0     2   355     0     0     0     0     0     0     0]\n",
      " [10007     1     1   214    26     6     1    26     6     1     0]\n",
      " [ 1777     1     2   363    29     6     1    26     6     1     1]\n",
      " [ 3613     0     4   395    40     9     1    26     6     1     1]\n",
      " [ 8081     1     1   707    26     6     1    36     8     1     1]]\n"
     ]
    }
   ],
   "source": [
    "# Read data frame\n",
    "dfsushi = pd.read_table('sushi3-2016/sushi3a.5000.10.order', sep = ' ', skiprows = 1, \n",
    "                        usecols = [2, 3, 4, 5, 6, 7, 8, 9, 10, 11], header = None)\n",
    "print(dfsushi.shape)\n",
    "print(dfsushi.head)\n",
    "sushi = np.array(dfsushi)\n",
    "print(sushi.shape)\n",
    "print(sushi[:5,:])\n",
    "# Read auxialary data\n",
    "dfsushiext = pd.read_table('sushi3-2016/sushi3.udata', sep = '\\t', header = None)\n",
    "print(dfsushiext.shape)\n",
    "print(dfsushiext.head)\n",
    "sushiext = np.array(dfsushiext)\n",
    "print(sushiext.shape)\n",
    "print(sushiext[:5,:])"
   ]
  },
  {
   "cell_type": "markdown",
   "metadata": {},
   "source": [
    "Some first statistics:"
   ]
  },
  {
   "cell_type": "code",
   "execution_count": 31,
   "metadata": {},
   "outputs": [
    {
     "data": {
      "text/plain": [
       "1552"
      ]
     },
     "execution_count": 31,
     "metadata": {},
     "output_type": "execute_result"
    }
   ],
   "source": [
    "print(sum(sushiext[:,9] == 0))\n",
    "print(sum(sushiext[:,9] == 1))"
   ]
  },
  {
   "cell_type": "markdown",
   "metadata": {},
   "source": [
    "# Create subsets"
   ]
  },
  {
   "cell_type": "code",
   "execution_count": 33,
   "metadata": {},
   "outputs": [
    {
     "name": "stdout",
     "output_type": "stream",
     "text": [
      "(3448, 10)\n",
      "(1552, 10)\n"
     ]
    }
   ],
   "source": [
    "sushiEast = sushi[sushiext[:,9] == 0,:]\n",
    "print(sushiEast.shape)\n",
    "sushiWest = sushi[sushiext[:,9] == 1,:]\n",
    "print(sushiWest.shape)"
   ]
  },
  {
   "cell_type": "markdown",
   "metadata": {},
   "source": [
    "# Formal testing procedure"
   ]
  },
  {
   "cell_type": "markdown",
   "metadata": {},
   "source": [
    "To check the guarantee that the performance of the studnets is indeed statistically significantly different after the class, we construct a testing procedure outlined above."
   ]
  },
  {
   "cell_type": "code",
   "execution_count": 34,
   "metadata": {},
   "outputs": [
    {
     "name": "stdout",
     "output_type": "stream",
     "text": [
      "(3448, 10)\n",
      "<class 'numpy.ndarray'>\n",
      "(1552, 10)\n"
     ]
    }
   ],
   "source": [
    "d1 = sushiEast\n",
    "d2 = sushiWest\n",
    "print(d1.shape)\n",
    "print(type(d1))\n",
    "print(d2.shape)"
   ]
  },
  {
   "cell_type": "markdown",
   "metadata": {},
   "source": [
    "## Compile depth library"
   ]
  },
  {
   "cell_type": "markdown",
   "metadata": {},
   "source": [
    "Compile C++ codes if necessary"
   ]
  },
  {
   "cell_type": "code",
   "execution_count": 35,
   "metadata": {},
   "outputs": [],
   "source": [
    "# Compilation\n",
    "# import os\n",
    "# os.system('clang++ -mmacosx-version-min=10.13 -std=gnu++11 -fPIC  -Wall -g -O2  -c rankDepth.cpp -o rankDepth.o')\n",
    "# os.system('clang++ -mmacosx-version-min=10.13 -std=gnu++11 -dynamiclib -Wl,-headerpad_max_install_names -undefined dynamic_lookup -single_module -multiply_defined suppress -o rankDepth.so rankDepth.o')\n",
    "# Restart the kernel after this line"
   ]
  },
  {
   "cell_type": "markdown",
   "metadata": {},
   "source": [
    "Import (and test) the dynamic library"
   ]
  },
  {
   "cell_type": "code",
   "execution_count": 36,
   "metadata": {},
   "outputs": [
    {
     "data": {
      "text/plain": [
       "43"
      ]
     },
     "execution_count": 36,
     "metadata": {},
     "output_type": "execute_result"
    }
   ],
   "source": [
    "# Import and Test 1\n",
    "from ctypes import *\n",
    "cdll.LoadLibrary('rankDepth.so')\n",
    "libc = CDLL('rankDepth.so')\n",
    "libc.testFunc()"
   ]
  },
  {
   "cell_type": "code",
   "execution_count": 37,
   "metadata": {},
   "outputs": [
    {
     "name": "stdout",
     "output_type": "stream",
     "text": [
      "0\n",
      "[  1.1   0.    0.    0.    0.    0.    0.    0.    0.  142. ]\n"
     ]
    }
   ],
   "source": [
    "# Test 2\n",
    "val = np.array([5.1])\n",
    "obj = np.array([0.1, 1.1, 2.1, 3.1, 4.1, 5.1, 6.1, 7.1, 8.1, 9.1])\n",
    "n = 10\n",
    "outp = np.array([1.1, 0, 0, 0, 0, 0, 0, 0, 0, 0])\n",
    "res2 = libc.testFuncCmp(c_void_p(val.ctypes.data),\n",
    "                       c_void_p(obj.ctypes.data),\n",
    "                       c_int(n),\n",
    "                       c_void_p(outp.ctypes.data))\n",
    "print(res2)\n",
    "print(outp)"
   ]
  },
  {
   "cell_type": "markdown",
   "metadata": {},
   "source": [
    "Depth-calculating Python function"
   ]
  },
  {
   "cell_type": "code",
   "execution_count": 38,
   "metadata": {},
   "outputs": [],
   "source": [
    "def qrdepth(objects, data):\n",
    "    '''\n",
    "    The function to calculate the qr-depths\n",
    "    '''\n",
    "    depths = np.zeros(objects.shape[0])\n",
    "    for i in range(objects.shape[0]):\n",
    "        for j in range(data.shape[0]):\n",
    "            depths[i] += (mk.max_dist(objects.shape[1]) - mk.distance(objects[i,:], data[j,:])) / mk.max_dist(objects.shape[1])\n",
    "        depths[i] /= data.shape[0]\n",
    "    return depths"
   ]
  },
  {
   "cell_type": "markdown",
   "metadata": {},
   "source": [
    "## Exploratory DD-plot"
   ]
  },
  {
   "cell_type": "code",
   "execution_count": 50,
   "metadata": {},
   "outputs": [
    {
     "name": "stdout",
     "output_type": "stream",
     "text": [
      "Plotting DD-plot\n"
     ]
    },
    {
     "data": {
      "image/png": "[encoded data removed]",
      "text/plain": [
       "<Figure size 540x360 with 1 Axes>"
      ]
     },
     "metadata": {
      "needs_background": "light"
     },
     "output_type": "display_data"
    }
   ],
   "source": [
    "print(\"Plotting DD-plot\")\n",
    "#depths1 = np.transpose(np.array([qrdepth(d1, d1), qrdepth(d1, d2)]))\n",
    "#depths2 = np.transpose(np.array([qrdepth(d2, d1), qrdepth(d2, d2)]))\n",
    "plt.close(\"all\")\n",
    "plt.figure(1, figsize=(7.5, 5))\n",
    "plt.title(\"DD-plot for difference in sushi for Eastern and Western Japan\")\n",
    "plt.plot(depths1[:,0], depths1[:,1], 'r.')\n",
    "plt.plot(depths2[:,0], depths2[:,1], 'b.')\n",
    "plt.xlabel(\"Depth w.r.t. 'Eastern Japan'\")\n",
    "plt.ylabel(\"Depth w.r.t. 'Western Japan'\")\n",
    "plt.ylim(0.4, 0.6)\n",
    "plt.xlim(0.4, 0.6)\n",
    "plt.grid()\n",
    "plt.savefig(\"pic-ddplot-sushi.pdf\")"
   ]
  },
  {
   "cell_type": "code",
   "execution_count": 51,
   "metadata": {},
   "outputs": [
    {
     "name": "stdout",
     "output_type": "stream",
     "text": [
      "Plotting one DD-plot\n"
     ]
    },
    {
     "data": {
      "image/png": "[encoded data removed]",
      "text/plain": [
       "<Figure size 540x360 with 1 Axes>"
      ]
     },
     "metadata": {
      "needs_background": "light"
     },
     "output_type": "display_data"
    }
   ],
   "source": [
    "print(\"Plotting one DD-plot\")\n",
    "#depthsAll = qrdepth(sushi, sushi)\n",
    "plt.close(\"all\")\n",
    "plt.figure(1, figsize=(7.5, 5))\n",
    "plt.title(\"Depth plot for the sushi data set\")\n",
    "plt.plot(list(range(sushi.shape[0])), np.sort(depthsAll), 'r.')\n",
    "plt.xlabel(\"Observation index\")\n",
    "plt.ylabel(\"Rank data depth\")\n",
    "#plt.ylim(0.4, 0.6)\n",
    "#plt.xlim(0.4, 0.6)\n",
    "plt.grid()\n",
    "plt.savefig(\"pic-depthplot-sushi.pdf\")"
   ]
  },
  {
   "cell_type": "code",
   "execution_count": null,
   "metadata": {},
   "outputs": [],
   "source": []
  }
 ],
 "metadata": {
  "kernel_info": {
   "name": "python3"
  },
  "kernelspec": {
   "display_name": "Python 3",
   "language": "python",
   "name": "python3"
  },
  "language_info": {
   "codemirror_mode": {
    "name": "ipython",
    "version": 3
   },
   "file_extension": ".py",
   "mimetype": "text/x-python",
   "name": "python",
   "nbconvert_exporter": "python",
   "pygments_lexer": "ipython3",
   "version": "3.8.3"
  },
  "nteract": {
   "version": "0.28.0"
  }
 },
 "nbformat": 4,
 "nbformat_minor": 1
}
