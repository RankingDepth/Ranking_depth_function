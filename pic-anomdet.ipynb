{
 "cells": [
  {
   "cell_type": "markdown",
   "metadata": {},
   "source": [
    "# Computation of the empirical probability content of a depth contour"
   ]
  },
  {
   "cell_type": "markdown",
   "metadata": {},
   "source": [
    "Import packages"
   ]
  },
  {
   "cell_type": "code",
   "execution_count": 49,
   "metadata": {
    "scrolled": true
   },
   "outputs": [],
   "source": [
    "import mallows_kendall as mk\n",
    "import numpy as np\n",
    "import itertools as it\n",
    "import scipy as sp\n",
    "import random\n",
    "import matplotlib.pyplot as plt\n",
    "from matplotlib.backends.backend_pdf import PdfPages\n",
    "import math"
   ]
  },
  {
   "cell_type": "markdown",
   "metadata": {},
   "source": [
    "### The C++ load and verification part"
   ]
  },
  {
   "cell_type": "markdown",
   "metadata": {},
   "source": [
    "Compile C++ codes if necessary"
   ]
  },
  {
   "cell_type": "code",
   "execution_count": 50,
   "metadata": {
    "scrolled": true
   },
   "outputs": [],
   "source": [
    "# Compilation\n",
    "#import os\n",
    "#os.system('clang++ -mmacosx-version-min=10.13 -std=gnu++11 -fPIC  -Wall -g -O2  -c rankDepth.cpp -o rankDepth.o')\n",
    "#os.system('clang++ -mmacosx-version-min=10.13 -std=gnu++11 -dynamiclib -Wl,-headerpad_max_install_names -undefined dynamic_lookup -single_module -multiply_defined suppress -o rankDepth.so rankDepth.o')\n",
    "# Restart the kernel after this line"
   ]
  },
  {
   "cell_type": "markdown",
   "metadata": {},
   "source": [
    "Import (and test) the dynamic library"
   ]
  },
  {
   "cell_type": "code",
   "execution_count": 51,
   "metadata": {
    "scrolled": true
   },
   "outputs": [
    {
     "data": {
      "text/plain": [
       "43"
      ]
     },
     "execution_count": 51,
     "metadata": {},
     "output_type": "execute_result"
    }
   ],
   "source": [
    "# Import and Test 1\n",
    "from ctypes import *\n",
    "cdll.LoadLibrary('rankDepth.so')\n",
    "libc = CDLL('rankDepth.so')\n",
    "libc.testFunc()"
   ]
  },
  {
   "cell_type": "code",
   "execution_count": 52,
   "metadata": {
    "scrolled": true
   },
   "outputs": [
    {
     "name": "stdout",
     "output_type": "stream",
     "text": [
      "0\n",
      "[  1.1   0.    0.    0.    0.    0.    0.    0.    0.  142. ]\n"
     ]
    }
   ],
   "source": [
    "# Test 2\n",
    "val = np.array([5.1])\n",
    "obj = np.array([0.1, 1.1, 2.1, 3.1, 4.1, 5.1, 6.1, 7.1, 8.1, 9.1])\n",
    "n = 10\n",
    "outp = np.array([1.1, 0, 0, 0, 0, 0, 0, 0, 0, 0])\n",
    "res2 = libc.testFuncCmp(c_void_p(val.ctypes.data),\n",
    "                       c_void_p(obj.ctypes.data),\n",
    "                       c_int(n),\n",
    "                       c_void_p(outp.ctypes.data))\n",
    "print(res2)\n",
    "print(outp)"
   ]
  },
  {
   "cell_type": "markdown",
   "metadata": {},
   "source": [
    "Depth-calculating Python function"
   ]
  },
  {
   "cell_type": "code",
   "execution_count": 53,
   "metadata": {},
   "outputs": [],
   "source": [
    "def qrdepth(objects, data):\n",
    "    '''\n",
    "    The function to calculate the qr-depths\n",
    "    '''\n",
    "    depths = np.zeros(objects.shape[0])\n",
    "    for i in range(objects.shape[0]):\n",
    "        for j in range(data.shape[0]):\n",
    "            depths[i] += (mk.max_dist(objects.shape[1]) - mk.kendall_tau(objects[i,:], data[j,:])) / mk.max_dist(objects.shape[1])\n",
    "        depths[i] /= data.shape[0]\n",
    "    return depths"
   ]
  },
  {
   "cell_type": "markdown",
   "metadata": {},
   "source": [
    "### Define model constants"
   ]
  },
  {
   "cell_type": "code",
   "execution_count": 107,
   "metadata": {},
   "outputs": [],
   "source": [
    "modelShorts = [\"model1\", \"model2\"]"
   ]
  },
  {
   "cell_type": "markdown",
   "metadata": {},
   "source": [
    "### Model 1: Obviously simple mixture of two Mallows-Kendalls"
   ]
  },
  {
   "cell_type": "code",
   "execution_count": 110,
   "metadata": {},
   "outputs": [
    {
     "name": "stdout",
     "output_type": "stream",
     "text": [
      "15\n"
     ]
    }
   ],
   "source": [
    "np.random.seed(1)\n",
    "iModel = 0\n",
    "n = 10\n",
    "m1 = 35\n",
    "m2 = 215\n",
    "m = m1 + m2\n",
    "# Define centers\n",
    "cons1 = np.random.permutation(n) # center of normal observations\n",
    "cons2 = np.array(cons1) # center of anomalies\n",
    "tmpWhere1 = np.where(cons1 == 0)\n",
    "tmpWhere2 = np.where(cons1 == 8)\n",
    "cons2[tmpWhere1] = 8\n",
    "cons2[tmpWhere2] = 0\n",
    "print(mk.kendall_tau(cons2, cons1)) # Distance between centers\n",
    "# Generate the data\n",
    "sSample1 = mk.sampling_mm(m = m1, n = n, theta = 0.5, phi = None, s0 = cons1)\n",
    "sSample2 = mk.sampling_mm(m = m2, n = n, theta = 2.5, phi = None, s0 = cons2)\n",
    "# Join the data\n",
    "empDist = np.concatenate((np.array(sSample1, dtype = c_int), \n",
    "                         np.array(sSample2, dtype = c_int)))"
   ]
  },
  {
   "cell_type": "markdown",
   "metadata": {},
   "source": [
    "### Model 2: A more difficult case"
   ]
  },
  {
   "cell_type": "code",
   "execution_count": 121,
   "metadata": {},
   "outputs": [
    {
     "name": "stdout",
     "output_type": "stream",
     "text": [
      "11\n"
     ]
    }
   ],
   "source": [
    "np.random.seed(1)\n",
    "iModel = 1\n",
    "n = 10\n",
    "m1 = 125\n",
    "m2 = 125\n",
    "m = m1 + m2\n",
    "# Define centers\n",
    "cons1 = np.random.permutation(n) # center of normal observations\n",
    "cons2 = np.array(cons1) # center of anomalies\n",
    "tmpWhere1 = np.where(cons1 == 0)\n",
    "tmpWhere2 = np.where(cons1 == 6)\n",
    "cons2[tmpWhere1] = 6\n",
    "cons2[tmpWhere2] = 0\n",
    "print(mk.kendall_tau(cons2, cons1)) # Distance between centers\n",
    "# Generate the data\n",
    "sSample1 = mk.sampling_mm(m = m1, n = n, theta = 0.25, phi = None, s0 = cons1)\n",
    "sSample2 = mk.sampling_mm(m = m2, n = n, theta = 2.5, phi = None, s0 = cons2)\n",
    "# Join the data\n",
    "empDist = np.concatenate((np.array(sSample1, dtype = c_int), \n",
    "                         np.array(sSample2, dtype = c_int)))"
   ]
  },
  {
   "cell_type": "markdown",
   "metadata": {},
   "source": [
    "Shuffle"
   ]
  },
  {
   "cell_type": "code",
   "execution_count": 122,
   "metadata": {},
   "outputs": [],
   "source": [
    "rndIds = np.array(list(range(m)))\n",
    "random.shuffle(rndIds)\n",
    "isFirst = np.where(rndIds < m1)\n",
    "isSecond = np.where(rndIds > m1)\n",
    "empDist = empDist[rndIds,:]"
   ]
  },
  {
   "cell_type": "markdown",
   "metadata": {},
   "source": [
    "### Plot the depth visualization"
   ]
  },
  {
   "cell_type": "markdown",
   "metadata": {},
   "source": [
    "Calculate depths of all observations w.r.t. the same sample"
   ]
  },
  {
   "cell_type": "code",
   "execution_count": 123,
   "metadata": {},
   "outputs": [
    {
     "name": "stdout",
     "output_type": "stream",
     "text": [
      "[0.43404444 0.58764444 0.76044444 0.74746667 0.45377778 0.38746667\n",
      " 0.76115556 0.596      0.58      ]\n",
      "[0.58853333 0.57928889 0.52417778 0.47493333 0.77004444 0.77093333\n",
      " 0.78017778 0.75991111 0.5976     0.75884444]\n",
      "[ 45 117  68 140 166  73  92 158  81  23 244  51  42 176 138 107 186 103\n",
      " 197  88 142 122   1 167 212  35 104 123 119 115   4 113  24 246  21 184\n",
      "  36 220  89 112 139  11   5 237   8 102  64  31 100  87 116 228 190 125\n",
      "  63  38 108 132  91 202 192 183   6 128  57 144  58  80 193 151  95 207\n",
      " 181 231 198  22 126  43  39  85 160 195  10 243  26 101 120 209 203  44\n",
      "  94 172  67 133 143 164 136 216 154  54  50 221  32 179  34 225 215 141\n",
      "  74  61 159 241 149 182  53  47  29 110  15 222  97   7 205 118 187  76\n",
      "  52 105  49 233 223 157 235  98 189 188 156 161 178 171 199  17  41  28\n",
      " 214 180  25 211  20 173 242 153  46 174  19 165 109 155  99  12  14  86\n",
      " 239  16 247 148  33 111 249  75 204 146 152 238  70  56  90 163 137 206\n",
      "  48 234 210  84 150  27 219 130 145 191   9  78 129  69  66 236 208 196\n",
      "  62 224  37 248  30 170 185  79 168  72 200 169  60  59 218 114 240 134\n",
      " 175  71 162 106 201  82 230 124  77 229   0  96  18  65 131 135  40 194\n",
      "  83 177 217   3 147 232 226 121 245 127 227   2 213  93  55  13]\n"
     ]
    }
   ],
   "source": [
    "depths = qrdepth(empDist, empDist)\n",
    "print(depths[1:10])\n",
    "print(depths[m1:m1 + 10])\n",
    "print(rndIds)"
   ]
  },
  {
   "cell_type": "markdown",
   "metadata": {},
   "source": [
    "Visualize the detphs"
   ]
  },
  {
   "cell_type": "code",
   "execution_count": 132,
   "metadata": {},
   "outputs": [
    {
     "data": {
      "image/png": "[encoded data removed]",
      "text/plain": [
       "<Figure size 360x360 with 1 Axes>"
      ]
     },
     "metadata": {
      "needs_background": "light"
     },
     "output_type": "display_data"
    }
   ],
   "source": [
    "plt.close(\"all\")\n",
    "plt.figure(1, figsize=(5, 5))\n",
    "if iModel == 1:\n",
    "    curColors = np.repeat(\"r\", m)\n",
    "    curColors[isSecond] = \"b\"\n",
    "if iModel == 0:\n",
    "    plt.scatter(range(m), depths, c = np.concatenate((np.repeat(\"r\", m1), np.repeat(\"b\", m2))))\n",
    "if iModel == 1:\n",
    "    plt.scatter(range(m), depths, c = curColors)\n",
    "plt.xlabel(\"Observation index\")\n",
    "plt.ylabel(\"Depth value w.r.t the sample itself\")\n",
    "if iModel == 0:\n",
    "    plt.axvline(x = m1 + 0.5, color = 'green')\n",
    "if iModel == 1:\n",
    "    plt.axhline(y = 0.71, color = 'green', ls='--')\n",
    "plt.grid()\n",
    "plt.savefig(\"pic-anomplot-n10-\" + modelShorts[iModel] + \".pdf\")"
   ]
  },
  {
   "cell_type": "markdown",
   "metadata": {
    "scrolled": true
   },
   "source": [
    "Pot the DD-plot"
   ]
  },
  {
   "cell_type": "code",
   "execution_count": 128,
   "metadata": {},
   "outputs": [],
   "source": [
    "if iModel == 0:\n",
    "    sSampleOur1 = sSample1\n",
    "    sSampleOur2 = sSample2\n",
    "if iModel == 1:\n",
    "    sSampleOur1 = empDist[depths < 0.71,:]\n",
    "    sSampleOur2 = empDist[depths >= 0.71,:]\n",
    "depths1 = np.transpose(np.array([qrdepth(sSampleOur1, sSampleOur1), qrdepth(sSampleOur1, sSampleOur2)]))\n",
    "#print(depths1)\n",
    "depths2 = np.transpose(np.array([qrdepth(sSampleOur2, sSampleOur1), qrdepth(sSampleOur2, sSampleOur2)]))\n",
    "#print(depths2)"
   ]
  },
  {
   "cell_type": "code",
   "execution_count": 129,
   "metadata": {},
   "outputs": [
    {
     "data": {
      "image/png": "[encoded data removed]",
      "text/plain": [
       "<Figure size 360x360 with 1 Axes>"
      ]
     },
     "metadata": {
      "needs_background": "light"
     },
     "output_type": "display_data"
    }
   ],
   "source": [
    "plt.close(\"all\")\n",
    "plt.figure(1, figsize=(5, 5))\n",
    "plt.plot(depths1[:,0], depths1[:,1], 'mo')\n",
    "plt.plot(depths2[:,0], depths2[:,1], 'co')\n",
    "plt.xlabel(\"Depth w.r.t. Distribution 1\")\n",
    "plt.ylabel(\"Depth w.r.t. Distribution 2\")\n",
    "plt.ylim(0, 1)\n",
    "plt.xlim(0, 1)\n",
    "plt.grid()\n",
    "plt.savefig(\"pic-anomddplot-n10-\" + modelShorts[iModel] + \".pdf\")"
   ]
  },
  {
   "cell_type": "code",
   "execution_count": null,
   "metadata": {},
   "outputs": [],
   "source": []
  }
 ],
 "metadata": {
  "kernelspec": {
   "display_name": "Python 3",
   "language": "python",
   "name": "python3"
  },
  "language_info": {
   "codemirror_mode": {
    "name": "ipython",
    "version": 3
   },
   "file_extension": ".py",
   "mimetype": "text/x-python",
   "name": "python",
   "nbconvert_exporter": "python",
   "pygments_lexer": "ipython3",
   "version": "3.8.3"
  }
 },
 "nbformat": 4,
 "nbformat_minor": 4
}
